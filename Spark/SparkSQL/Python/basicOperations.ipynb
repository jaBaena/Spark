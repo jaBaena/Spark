{
 "cells": [
  {
   "cell_type": "markdown",
   "metadata": {},
   "source": [
    "# Basic operations (pyspark with dataframes)"
   ]
  },
  {
   "cell_type": "markdown",
   "metadata": {},
   "source": [
    "First, we are going to import the packages we need."
   ]
  },
  {
   "cell_type": "code",
   "execution_count": 2,
   "metadata": {},
   "outputs": [],
   "source": [
    "from pyspark.sql import SparkSession\n",
    "from pyspark.sql import functions"
   ]
  },
  {
   "cell_type": "markdown",
   "metadata": {},
   "source": [
    "After that, we create the SparkSession."
   ]
  },
  {
   "cell_type": "code",
   "execution_count": 3,
   "metadata": {},
   "outputs": [],
   "source": [
    "spark_session = SparkSession \\\n",
    "        .builder \\\n",
    "        .getOrCreate()"
   ]
  },
  {
   "cell_type": "markdown",
   "metadata": {},
   "source": [
    "Once we have created the SparkSession we work on it to create a dataframe by reading the .csv file."
   ]
  },
  {
   "cell_type": "code",
   "execution_count": 5,
   "metadata": {},
   "outputs": [],
   "source": [
    "data_frame = spark_session\\\n",
    "        .read\\\n",
    "        .format(\"csv\")\\\n",
    "        .options(header='true', inferschema='true') \\\n",
    "        .load(\"data/sample.csv\") \\\n",
    "        .persist()"
   ]
  },
  {
   "cell_type": "markdown",
   "metadata": {},
   "source": [
    "Now let's show the dataframe and its schema."
   ]
  },
  {
   "cell_type": "code",
   "execution_count": 6,
   "metadata": {},
   "outputs": [
    {
     "name": "stdout",
     "output_type": "stream",
     "text": [
      "root\n",
      " |-- Name: string (nullable = true)\n",
      " |-- Age: integer (nullable = true)\n",
      " |-- Weight: double (nullable = true)\n",
      " |-- HasACar: boolean (nullable = true)\n",
      " |-- DateBirth: timestamp (nullable = true)\n",
      "\n",
      "+----+---+------+-------+-------------------+\n",
      "|Name|Age|Weight|HasACar|          DateBirth|\n",
      "+----+---+------+-------+-------------------+\n",
      "|Luis| 15|  58.0|   true|2010-05-03 00:00:00|\n",
      "|Lola| 25|  60.0|  false|1998-02-12 00:00:00|\n",
      "|Paco| 32|  83.2|  false|1991-01-12 00:00:00|\n",
      "+----+---+------+-------+-------------------+\n",
      "\n"
     ]
    }
   ],
   "source": [
    "data_frame.printSchema()\n",
    "data_frame.show()"
   ]
  },
  {
   "cell_type": "markdown",
   "metadata": {},
   "source": [
    "Print the data types of the data frame."
   ]
  },
  {
   "cell_type": "code",
   "execution_count": 7,
   "metadata": {},
   "outputs": [
    {
     "name": "stdout",
     "output_type": "stream",
     "text": [
      "data types: [('Name', 'string'), ('Age', 'int'), ('Weight', 'double'), ('HasACar', 'boolean'), ('DateBirth', 'timestamp')]\n"
     ]
    }
   ],
   "source": [
    "print(\"data types: \" + str(data_frame.dtypes))"
   ]
  },
  {
   "cell_type": "markdown",
   "metadata": {},
   "source": [
    "Describe the dataframe."
   ]
  },
  {
   "cell_type": "code",
   "execution_count": 8,
   "metadata": {},
   "outputs": [
    {
     "name": "stdout",
     "output_type": "stream",
     "text": [
      "+-------+----+----------------+------------------+\n",
      "|summary|Name|             Age|            Weight|\n",
      "+-------+----+----------------+------------------+\n",
      "|  count|   3|               3|                 3|\n",
      "|   mean|null|            24.0| 67.06666666666666|\n",
      "| stddev|null|8.54400374531753|14.007616975536322|\n",
      "|    min|Lola|              15|              58.0|\n",
      "|    max|Paco|              32|              83.2|\n",
      "+-------+----+----------------+------------------+\n",
      "\n"
     ]
    }
   ],
   "source": [
    "data_frame\\\n",
    "        .describe()\\\n",
    "        .show()"
   ]
  },
  {
   "cell_type": "markdown",
   "metadata": {},
   "source": [
    "Select everything. We select \"name\" in this case."
   ]
  },
  {
   "cell_type": "code",
   "execution_count": 9,
   "metadata": {},
   "outputs": [
    {
     "name": "stdout",
     "output_type": "stream",
     "text": [
      "+----+\n",
      "|Name|\n",
      "+----+\n",
      "|Luis|\n",
      "|Lola|\n",
      "|Paco|\n",
      "+----+\n",
      "\n"
     ]
    }
   ],
   "source": [
    "data_frame.select(\"Name\").show()"
   ]
  },
  {
   "cell_type": "markdown",
   "metadata": {},
   "source": [
    "Select columns name and age, but adding 1 to age."
   ]
  },
  {
   "cell_type": "code",
   "execution_count": 11,
   "metadata": {},
   "outputs": [
    {
     "name": "stdout",
     "output_type": "stream",
     "text": [
      "+----+---------+\n",
      "|name|(Age + 1)|\n",
      "+----+---------+\n",
      "|Luis|       16|\n",
      "|Lola|       26|\n",
      "|Paco|       33|\n",
      "+----+---------+\n",
      "\n"
     ]
    }
   ],
   "source": [
    "data_frame.select(\"name\", data_frame[\"Age\"] + 1).show()"
   ]
  },
  {
   "cell_type": "markdown",
   "metadata": {},
   "source": [
    "Select the rows having a name length > 4."
   ]
  },
  {
   "cell_type": "code",
   "execution_count": 12,
   "metadata": {},
   "outputs": [
    {
     "name": "stdout",
     "output_type": "stream",
     "text": [
      "+------------------+\n",
      "|(length(Name) > 4)|\n",
      "+------------------+\n",
      "|             false|\n",
      "|             false|\n",
      "|             false|\n",
      "+------------------+\n",
      "\n"
     ]
    }
   ],
   "source": [
    "data_frame.select(functions.length(data_frame[\"Name\"]) > 4).show()"
   ]
  },
  {
   "cell_type": "markdown",
   "metadata": {},
   "source": [
    "Select names staring with L."
   ]
  },
  {
   "cell_type": "code",
   "execution_count": 13,
   "metadata": {},
   "outputs": [
    {
     "name": "stdout",
     "output_type": "stream",
     "text": [
      "+----+-------------------+\n",
      "|name|startswith(name, L)|\n",
      "+----+-------------------+\n",
      "|Luis|               true|\n",
      "|Lola|               true|\n",
      "|Paco|              false|\n",
      "+----+-------------------+\n",
      "\n"
     ]
    }
   ],
   "source": [
    "data_frame.select(\"name\", data_frame[\"name\"].startswith(\"L\")).show()"
   ]
  },
  {
   "cell_type": "markdown",
   "metadata": {},
   "source": [
    "Add a new column \"Senior\" containing true if the person age is > 45."
   ]
  },
  {
   "cell_type": "code",
   "execution_count": 14,
   "metadata": {},
   "outputs": [
    {
     "name": "stdout",
     "output_type": "stream",
     "text": [
      "+----+---+------+-------+-------------------+------+\n",
      "|Name|Age|Weight|HasACar|          DateBirth|Senior|\n",
      "+----+---+------+-------+-------------------+------+\n",
      "|Luis| 15|  58.0|   true|2010-05-03 00:00:00| false|\n",
      "|Lola| 25|  60.0|  false|1998-02-12 00:00:00| false|\n",
      "|Paco| 32|  83.2|  false|1991-01-12 00:00:00| false|\n",
      "+----+---+------+-------+-------------------+------+\n",
      "\n"
     ]
    }
   ],
   "source": [
    "data_frame.withColumn(\"Senior\", data_frame[\"Age\"] > 45).show()"
   ]
  },
  {
   "cell_type": "markdown",
   "metadata": {},
   "source": [
    "Rename column HasACar as Owner."
   ]
  },
  {
   "cell_type": "code",
   "execution_count": 15,
   "metadata": {},
   "outputs": [
    {
     "name": "stdout",
     "output_type": "stream",
     "text": [
      "+----+---+------+-----+-------------------+\n",
      "|Name|Age|Weight|Owner|          DateBirth|\n",
      "+----+---+------+-----+-------------------+\n",
      "|Luis| 15|  58.0| true|2010-05-03 00:00:00|\n",
      "|Lola| 25|  60.0|false|1998-02-12 00:00:00|\n",
      "|Paco| 32|  83.2|false|1991-01-12 00:00:00|\n",
      "+----+---+------+-----+-------------------+\n",
      "\n"
     ]
    }
   ],
   "source": [
    "data_frame.withColumnRenamed(\"HasACar\", \"Owner\").show()"
   ]
  },
  {
   "cell_type": "markdown",
   "metadata": {},
   "source": [
    "Remove column DateBirth."
   ]
  },
  {
   "cell_type": "code",
   "execution_count": 16,
   "metadata": {},
   "outputs": [
    {
     "name": "stdout",
     "output_type": "stream",
     "text": [
      "+----+---+------+-------+\n",
      "|Name|Age|Weight|HasACar|\n",
      "+----+---+------+-------+\n",
      "|Luis| 15|  58.0|   true|\n",
      "|Lola| 25|  60.0|  false|\n",
      "|Paco| 32|  83.2|  false|\n",
      "+----+---+------+-------+\n",
      "\n"
     ]
    }
   ],
   "source": [
    "data_frame.drop(\"DateBirth\").show()"
   ]
  },
  {
   "cell_type": "markdown",
   "metadata": {},
   "source": [
    "Get a RDD."
   ]
  },
  {
   "cell_type": "code",
   "execution_count": 18,
   "metadata": {},
   "outputs": [
    {
     "name": "stdout",
     "output_type": "stream",
     "text": [
      "Row(Name='Luis', Age=15, Weight=58.0, HasACar=True, DateBirth=datetime.datetime(2010, 5, 3, 0, 0))\n",
      "Row(Name='Lola', Age=25, Weight=60.0, HasACar=False, DateBirth=datetime.datetime(1998, 2, 12, 0, 0))\n",
      "Row(Name='Paco', Age=32, Weight=83.2, HasACar=False, DateBirth=datetime.datetime(1991, 1, 12, 0, 0))\n"
     ]
    }
   ],
   "source": [
    "rdd_from_dataframe = data_frame\\\n",
    "    .rdd\\\n",
    "    .cache()\n",
    "\n",
    "for i in rdd_from_dataframe.collect():\n",
    "    print(i)"
   ]
  },
  {
   "cell_type": "markdown",
   "metadata": {},
   "source": [
    "Sum all the weights (RDD)."
   ]
  },
  {
   "cell_type": "code",
   "execution_count": 19,
   "metadata": {},
   "outputs": [
    {
     "name": "stdout",
     "output_type": "stream",
     "text": [
      "Sum of weights (RDDs): 201.2\n"
     ]
    }
   ],
   "source": [
    "sum_of_weights = rdd_from_dataframe\\\n",
    "    .map(lambda row: row[2])\\\n",
    "    .reduce(lambda x, y: x + y) \n",
    "print(\"Sum of weights (RDDs): \" + str(sum_of_weights))"
   ]
  },
  {
   "cell_type": "markdown",
   "metadata": {},
   "source": [
    "Sum all the weights (dataframe)."
   ]
  },
  {
   "cell_type": "code",
   "execution_count": 21,
   "metadata": {},
   "outputs": [
    {
     "name": "stdout",
     "output_type": "stream",
     "text": [
      "+-----------+\n",
      "|sum(Weight)|\n",
      "+-----------+\n",
      "|      201.2|\n",
      "+-----------+\n",
      "\n",
      "+-----------+\n",
      "|sum(Weight)|\n",
      "+-----------+\n",
      "|      201.2|\n",
      "+-----------+\n",
      "\n",
      "201.2\n"
     ]
    }
   ],
   "source": [
    "data_frame.select(functions.sum(data_frame[\"Weight\"])).show()\n",
    "data_frame.agg({\"Weight\" : \"sum\"}).show()\n",
    "\n",
    "v = data_frame.select(\"Weight\").groupBy().sum().collect()\n",
    "print(v[0][0])"
   ]
  },
  {
   "cell_type": "markdown",
   "metadata": {},
   "source": [
    "Get the mean age (RDD)."
   ]
  },
  {
   "cell_type": "code",
   "execution_count": 22,
   "metadata": {},
   "outputs": [
    {
     "name": "stdout",
     "output_type": "stream",
     "text": [
      "Mean age (RDDs): 24.0\n"
     ]
    }
   ],
   "source": [
    "mean_age = rdd_from_dataframe\\\n",
    "    .map(lambda row: row[1])\\\n",
    "    .reduce(lambda x, y: x + y) / rdd_from_dataframe.count()\n",
    "\n",
    "print(\"Mean age (RDDs): \" + str(mean_age))"
   ]
  },
  {
   "cell_type": "markdown",
   "metadata": {},
   "source": [
    "Get the mean age (dataframe)."
   ]
  },
  {
   "cell_type": "code",
   "execution_count": 24,
   "metadata": {},
   "outputs": [
    {
     "name": "stdout",
     "output_type": "stream",
     "text": [
      "+--------+\n",
      "|avg(Age)|\n",
      "+--------+\n",
      "|    24.0|\n",
      "+--------+\n",
      "\n",
      "+--------+\n",
      "|avg(Age)|\n",
      "+--------+\n",
      "|    24.0|\n",
      "+--------+\n",
      "\n"
     ]
    }
   ],
   "source": [
    "data_frame.select(functions.avg(data_frame[\"Age\"])).show()\n",
    "data_frame.agg({\"Age\" : \"avg\"}).show()"
   ]
  },
  {
   "cell_type": "markdown",
   "metadata": {},
   "source": [
    "Write to a json file."
   ]
  },
  {
   "cell_type": "code",
   "execution_count": 25,
   "metadata": {},
   "outputs": [],
   "source": [
    "data_frame\\\n",
    "    .write\\\n",
    "    .save(\"output.json\", format=\"json\")"
   ]
  },
  {
   "cell_type": "markdown",
   "metadata": {},
   "source": [
    "Write to a CSV file."
   ]
  },
  {
   "cell_type": "code",
   "execution_count": 26,
   "metadata": {},
   "outputs": [],
   "source": [
    "data_frame\\\n",
    "    .write\\\n",
    "    .format(\"csv\")\\\n",
    "    .save(\"output.csv\")"
   ]
  },
  {
   "cell_type": "code",
   "execution_count": null,
   "metadata": {},
   "outputs": [],
   "source": []
  }
 ],
 "metadata": {
  "kernelspec": {
   "display_name": "Python 3",
   "language": "python",
   "name": "python3"
  },
  "language_info": {
   "codemirror_mode": {
    "name": "ipython",
    "version": 3
   },
   "file_extension": ".py",
   "mimetype": "text/x-python",
   "name": "python",
   "nbconvert_exporter": "python",
   "pygments_lexer": "ipython3",
   "version": "3.7.2"
  }
 },
 "nbformat": 4,
 "nbformat_minor": 2
}
